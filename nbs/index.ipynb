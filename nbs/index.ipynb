{
 "cells": [
  {
   "cell_type": "raw",
   "id": "78912e95-ab35-4e43-8be5-ad46724ec0b3",
   "metadata": {},
   "source": [
    "---\n",
    "title: \"Examples on species-distribution-modelling with various EO data\"\n",
    "author: \"Janne Mäyrä\"\n",
    "date: last-modified\n",
    "format:\n",
    "  html:\n",
    "    code-fold: true\n",
    "    toc: false\n",
    "    toc-depth: 2\n",
    "    number-sections: false\n",
    "    smooth-scroll: true\n",
    "---"
   ]
  },
  {
   "cell_type": "markdown",
   "id": "b09c62bc-d15e-41e2-a97a-7a5cc6fb1b3b",
   "metadata": {},
   "source": [
    "This repository contains some examples on how to use openly available EO data for species distribution modelling. Examples are so far using python but other languages (mostly R) might arrive later."
   ]
  }
 ],
 "metadata": {
  "kernelspec": {
   "display_name": "conda-env-elapid-py",
   "language": "python",
   "name": "conda-env-elapid-py"
  }
 },
 "nbformat": 4,
 "nbformat_minor": 5
}
